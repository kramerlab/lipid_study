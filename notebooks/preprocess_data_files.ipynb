{
 "cells": [
  {
   "cell_type": "code",
   "execution_count": 3,
   "id": "expired-vermont",
   "metadata": {},
   "outputs": [],
   "source": [
    "import pandas as pd"
   ]
  },
  {
   "cell_type": "code",
   "execution_count": 4,
   "id": "multiple-semiconductor",
   "metadata": {},
   "outputs": [],
   "source": [
    "file_name = 'Vampire Study - Neg_p'\n",
    "\n",
    "data_df = pd.DataFrame()\n",
    "\n",
    "for i in range(1,5):\n",
    "    tmp = pd.read_csv(f'../data/{file_name}{i}.csv', header=[0, 2], index_col=0, na_values='#DIV/0!').T\n",
    "    tmp['Person'] = i\n",
    "    tmp.set_index('Person', append=True, inplace=True)\n",
    "    data_df = data_df.append(tmp)\n"
   ]
  },
  {
   "cell_type": "code",
   "execution_count": 5,
   "id": "worse-joint",
   "metadata": {},
   "outputs": [],
   "source": [
    "data_df.index.names = ['Date', 'Blood Type', 'Person']"
   ]
  },
  {
   "cell_type": "code",
   "execution_count": 6,
   "id": "terminal-forth",
   "metadata": {},
   "outputs": [],
   "source": [
    "data_df.to_csv('all_data.csv')"
   ]
  },
  {
   "cell_type": "code",
   "execution_count": null,
   "id": "current-saudi",
   "metadata": {},
   "outputs": [],
   "source": []
  }
 ],
 "metadata": {
  "kernelspec": {
   "display_name": "lipid-study",
   "language": "python",
   "name": "lipid-study"
  },
  "language_info": {
   "codemirror_mode": {
    "name": "ipython",
    "version": 3
   },
   "file_extension": ".py",
   "mimetype": "text/x-python",
   "name": "python",
   "nbconvert_exporter": "python",
   "pygments_lexer": "ipython3",
   "version": "3.9.7"
  }
 },
 "nbformat": 4,
 "nbformat_minor": 5
}

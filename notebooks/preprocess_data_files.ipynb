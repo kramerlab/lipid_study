{
 "cells": [
  {
   "cell_type": "code",
   "execution_count": 1,
   "id": "expired-vermont",
   "metadata": {},
   "outputs": [],
   "source": [
    "import pandas as pd"
   ]
  },
  {
   "cell_type": "code",
   "execution_count": null,
   "id": "multiple-semiconductor",
   "metadata": {},
   "outputs": [],
   "source": [
    "file_name = "
   ]
  }
 ],
 "metadata": {
  "kernelspec": {
   "display_name": "lipid-study",
   "language": "python",
   "name": "lipid-study"
  },
  "language_info": {
   "codemirror_mode": {
    "name": "ipython",
    "version": 3
   },
   "file_extension": ".py",
   "mimetype": "text/x-python",
   "name": "python",
   "nbconvert_exporter": "python",
   "pygments_lexer": "ipython3",
   "version": "3.9.7"
  }
 },
 "nbformat": 4,
 "nbformat_minor": 5
}

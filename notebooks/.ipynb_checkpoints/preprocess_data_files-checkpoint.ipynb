{
 "cells": [
  {
   "cell_type": "code",
   "execution_count": 19,
   "id": "respiratory-calgary",
   "metadata": {},
   "outputs": [],
   "source": [
    "#mode = 'negative'\n",
    "mode = 'positive'"
   ]
  },
  {
   "cell_type": "code",
   "execution_count": 20,
   "id": "expired-vermont",
   "metadata": {},
   "outputs": [],
   "source": [
    "import pandas as pd"
   ]
  },
  {
   "cell_type": "code",
   "execution_count": 23,
   "id": "opposed-estate",
   "metadata": {},
   "outputs": [],
   "source": [
    "file_name = f'vampire_lipid_{mode}_p'\n",
    "\n",
    "data_df = pd.DataFrame()\n",
    "\n",
    "for i in range(1,5):\n",
    "    tmp = pd.read_csv(f'../data/{mode}/{file_name}{i}.csv', header=[0, 2], \n",
    "                      index_col=0, na_values='NA', ).T\n",
    "    tmp['Person'] = i\n",
    "    tmp.set_index('Person', append=True, inplace=True)\n",
    "\n",
    "    data_df = data_df.append(tmp)"
   ]
  },
  {
   "cell_type": "code",
   "execution_count": 24,
   "id": "worse-joint",
   "metadata": {},
   "outputs": [],
   "source": [
    "data_df.index.names = ['Date', 'Blood Type', 'Person']"
   ]
  },
  {
   "cell_type": "code",
   "execution_count": 25,
   "id": "terminal-forth",
   "metadata": {},
   "outputs": [],
   "source": [
    "data_df.to_csv(f'all_data_{mode}.csv')"
   ]
  },
  {
   "cell_type": "code",
   "execution_count": 26,
   "id": "current-saudi",
   "metadata": {
    "scrolled": true
   },
   "outputs": [
    {
     "data": {
      "text/plain": [
       "CE 14:0              32\n",
       "CE 16:0              18\n",
       "CE 16:1               4\n",
       "CE 18:0               4\n",
       "CE 20:0              18\n",
       "                     ..\n",
       "LPC 22:1-SN1         46\n",
       "PC 40:3              45\n",
       "PC O-46:6            45\n",
       "TG 12:0_18:2_18:3    45\n",
       "TG 8:0_12:0_16:0     45\n",
       "Length: 306, dtype: int64"
      ]
     },
     "execution_count": 26,
     "metadata": {},
     "output_type": "execute_result"
    }
   ],
   "source": [
    "data_df.isna().sum()"
   ]
  },
  {
   "cell_type": "code",
   "execution_count": null,
   "id": "solid-ceremony",
   "metadata": {},
   "outputs": [],
   "source": []
  }
 ],
 "metadata": {
  "kernelspec": {
   "display_name": "lipid-study",
   "language": "python",
   "name": "lipid-study"
  },
  "language_info": {
   "codemirror_mode": {
    "name": "ipython",
    "version": 3
   },
   "file_extension": ".py",
   "mimetype": "text/x-python",
   "name": "python",
   "nbconvert_exporter": "python",
   "pygments_lexer": "ipython3",
   "version": "3.9.7"
  }
 },
 "nbformat": 4,
 "nbformat_minor": 5
}
